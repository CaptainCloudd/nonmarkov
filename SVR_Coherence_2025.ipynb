{
  "nbformat": 4,
  "nbformat_minor": 0,
  "metadata": {
    "colab": {
      "provenance": [],
      "include_colab_link": true
    },
    "kernelspec": {
      "name": "python3",
      "display_name": "Python 3"
    },
    "language_info": {
      "name": "python"
    }
  },
  "cells": [
    {
      "cell_type": "markdown",
      "metadata": {
        "id": "view-in-github",
        "colab_type": "text"
      },
      "source": [
        "<a href=\"https://colab.research.google.com/github/CaptainCloudd/nonmarkov/blob/main/SVR_Coherence_2025.ipynb\" target=\"_parent\"><img src=\"https://colab.research.google.com/assets/colab-badge.svg\" alt=\"Open In Colab\"/></a>"
      ]
    },
    {
      "cell_type": "code",
      "execution_count": null,
      "metadata": {
        "id": "cPSeGIqLFtzI"
      },
      "outputs": [],
      "source": [
        "import pandas as pd\n",
        "import numpy as np\n",
        "from sklearn.model_selection import train_test_split, GridSearchCV, RandomizedSearchCV\n",
        "from sklearn.linear_model import LinearRegression\n",
        "from sklearn.multioutput import MultiOutputRegressor\n",
        "from sklearn.metrics import mean_squared_error, r2_score, mean_absolute_error\n",
        "from sklearn.svm import SVR\n",
        "from sklearn.preprocessing import StandardScaler\n",
        "import matplotlib.pyplot as plt\n",
        "from google.colab import drive\n",
        "from scipy.stats import uniform, randint\n",
        "import ast"
      ]
    },
    {
      "cell_type": "code",
      "source": [
        "drive.mount('/content/drive')"
      ],
      "metadata": {
        "colab": {
          "base_uri": "https://localhost:8080/"
        },
        "id": "U8_eQ72hGENW",
        "outputId": "bd083278-d2af-41e3-bd77-55074642738d"
      },
      "execution_count": null,
      "outputs": [
        {
          "output_type": "stream",
          "name": "stdout",
          "text": [
            "Drive already mounted at /content/drive; to attempt to forcibly remount, call drive.mount(\"/content/drive\", force_remount=True).\n"
          ]
        }
      ]
    },
    {
      "cell_type": "code",
      "source": [
        "file_loc = '/content/drive/MyDrive/Pesquisa_Chile/phase_damping_results.csv'\n",
        "dataset = pd.read_csv(file_loc)"
      ],
      "metadata": {
        "id": "tSQeGqnBH4Hc"
      },
      "execution_count": null,
      "outputs": []
    },
    {
      "cell_type": "code",
      "source": [
        "# Separing features from labels\n",
        "dataset['C(t)'] = dataset['C(t)'].apply(lambda x: ast.literal_eval(x) if isinstance(x, str) else x)\n",
        "X = np.array(dataset['C(t)'].tolist())\n",
        "y = dataset[['alpha', 's']].to_numpy()"
      ],
      "metadata": {
        "id": "SwdUvDeNJWA2"
      },
      "execution_count": null,
      "outputs": []
    },
    {
      "cell_type": "code",
      "source": [
        "# Dividing data into test and train\n",
        "X_train, X_test, y_train, y_test = train_test_split(X, y, test_size=0.3, random_state=42)"
      ],
      "metadata": {
        "id": "HYHPhFxIJ3xa"
      },
      "execution_count": null,
      "outputs": []
    },
    {
      "cell_type": "code",
      "source": [
        "# Scaling data\n",
        "scaler_X = StandardScaler()\n",
        "scaler_y = StandardScaler()\n",
        "\n",
        "X_train_scaled = scaler_X.fit_transform(X_train)\n",
        "X_test_scaled = scaler_X.transform(X_test)\n",
        "\n",
        "y_train_scaled = scaler_y.fit_transform(y_train)\n",
        "y_test_scaled = scaler_y.transform(y_test)"
      ],
      "metadata": {
        "id": "t12HfJ7kMUP1"
      },
      "execution_count": null,
      "outputs": []
    },
    {
      "cell_type": "code",
      "source": [
        "svr = SVR()\n",
        "Number_param = 5\n",
        "parametros = {'estimator__kernel': ['rbf'], 'estimator__C': np.linspace(0.001,100, Number_param),\n",
        "              'estimator__gamma': np.linspace(0.01, 10, Number_param),'estimator__epsilon': np.linspace(0.01, 1,Number_param)}\n"
      ],
      "metadata": {
        "id": "4_J_a-RoKuYN"
      },
      "execution_count": null,
      "outputs": []
    },
    {
      "cell_type": "code",
      "source": [
        "multi_output_svr = MultiOutputRegressor(svr)\n",
        "grid_search = GridSearchCV(estimator=multi_output_svr, param_grid=parametros, cv=3, n_jobs=-1, scoring='neg_mean_squared_error')"
      ],
      "metadata": {
        "id": "W4GIMguxLliR"
      },
      "execution_count": null,
      "outputs": []
    },
    {
      "cell_type": "code",
      "source": [
        "grid_search.fit(X_train_scaled, y_train_scaled)\n",
        "y_pred_scaled = multi_output_svr.predict(X_test_scaled)\n",
        "y_pred = scaler_y.inverse_transform(y_pred_scaled)\n",
        "y_test_actual = scaler_y.inverse_transform(y_test_scaled)\n",
        "mse = mean_squared_error(y_test_actual, y_pred, multioutput='raw_values')\n",
        "print(f\"MSE para cada saída: {mse}\")\n",
        "print(f\"MSE médio: {mse.mean()}\")"
      ],
      "metadata": {
        "id": "yLj9Bre3LoPM"
      },
      "execution_count": null,
      "outputs": []
    },
    {
      "cell_type": "code",
      "source": [],
      "metadata": {
        "id": "AH4XdbqSLpzl"
      },
      "execution_count": null,
      "outputs": []
    }
  ]
}