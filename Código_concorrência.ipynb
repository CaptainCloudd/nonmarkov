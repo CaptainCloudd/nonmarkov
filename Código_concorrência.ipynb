import numpy as np
import matplotlib.pyplot as plt

def rhot(t, lambd, gamma0):
    rho = np.array([[0.5, 0.5], [0.5, 0.5]])
    d_squared = 2 * gamma0 * lambd - lambd**2
    if d_squared < 0:
        d_squared = 0
    d = np.sqrt(d_squared)
    if d == 0:
        Pt = np.exp(-lambd * t)
    else:
        Pt = np.exp(-lambd * t) * (np.cos(d * t / 2) + (lambd / d) * np.sin(d * t / 2))**2
    gammat = 1 - Pt
    E0 = np.array([[1, 0], [0, np.sqrt(1 - gammat)]])
    E1 = np.array([[0, 0], [0, np.sqrt(gammat)]])
    rhot = (
        E0 @ rho @ E0.conj().T +
        E1 @ rho @ E1.conj().T
    )
    return rhot

def conc(t, lambd, gamma0):
    sigmay = np.array([[0, -1j], [1j, 0]])
    Tsigmay = np.kron(sigmay, sigmay)
    EstBell = np.array([[0.5, 0, 0, 0.5],
                        [0, 0, 0, 0],
                        [0, 0, 0, 0],
                        [0.5, 0, 0, 0.5]])
    d_squared = 2 * gamma0 * lambd - lambd**2
    if d_squared < 0:
        d_squared = 0
    d = np.sqrt(d_squared)
    if d == 0:
        Pt = np.exp(-lambd * t)
    else:
        Pt = np.exp(-lambd * t) * (np.cos(d * t / 2) + (lambd / d) * np.sin(d * t / 2))**2
    gammat = 1 - Pt
    E0 = np.array([[1, 0], [0, np.sqrt(1 - gammat)]])
    E1 = np.array([[0, 0], [0, np.sqrt(gammat)]])
    M0 = np.kron(E0, np.identity(2))
    M1 = np.kron(E1, np.identity(2))
    rhot2 = (
        M0 @ EstBell @ M0.conj().T +
        M1 @ EstBell @ M1.conj().T
    )
    rhotilda = Tsigmay @ rhot2.conj() @ Tsigmay

    # Diagonalizar rhotilda e obter seus autovalores
    autovalores = np.linalg.eigvals(rhotilda)

    raizn = np.sqrt(np.maximum(autovalores, 0))  # Garantir que não haja valores negativos sob a raiz quadrada
    raizn.sort()  # Ordenar em ordem crescente
    raizn = raizn[::-1]  # Inverter para ordem decrescente
    maior = raizn[0]
    c = max(0, maior - sum(raizn[1:]))

    return c

tempo = np.arange(0, 50, 0.1)
vlambda0 = np.arange(0.1, 2, 0.1)
vlambda1 = np.arange(2.1, 3.1, 0.1)
vlambdatotal = np.concatenate((vlambda0, vlambda1))
Result_C_Lambda = [[] for _ in vlambdatotal]

for t in tempo:
    for i, lambd in enumerate(vlambdatotal):
        Conc = conc(t, lambd, 1)
        Result_C_Lambda[i].append(Conc)

for i, lambd in enumerate(vlambdatotal):
    plt.plot(tempo, Result_C_Lambda[i], label=f'Lambda = {lambd}')

plt.xlabel('Tempo (s)')
plt.ylabel('Concorrência')
plt.grid(True)
#plt.legend()
plt.show()
